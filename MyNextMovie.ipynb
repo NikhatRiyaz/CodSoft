{
 "cells": [
  {
   "cell_type": "code",
   "execution_count": null,
   "id": "3903ed0c-eb33-4363-9622-b0e02524d0f0",
   "metadata": {},
   "outputs": [],
   "source": [
    "# importing required libraries:\n",
    "import numpy as np\n",
    "import pandas as pd\n",
    "import matplotlib.pyplot as plt\n",
    "import seaborn as sns\n",
    "from sklearn.neighbors import NearestNeighbors\n",
    "from sklearn.linear_model import LinearRegression\n",
    "from sklearn.model_selection import train_test_split\n",
    "from sklearn import metrics\n",
    "from sklearn.metrics import r2_score"
   ]
  },
  {
   "cell_type": "code",
   "execution_count": null,
   "id": "b67c4a3a-79a0-4cf2-9201-7c7622c38ad4",
   "metadata": {},
   "outputs": [],
   "source": [
    "# Load the MovieLens dataset\n",
    "movies = pd.read_csv('movies.csv')\n",
    "ratings = pd.read_csv('ratings.csv')\n",
    "\n",
    "# Check the first few rows of data\n",
    "movies.head()"
   ]
  },
  {
   "cell_type": "code",
   "execution_count": null,
   "id": "bdc05929-82bf-407e-8a32-f1d68fed2ac7",
   "metadata": {},
   "outputs": [],
   "source": [
    "movies.isnull().sum() # checking if any null present"
   ]
  },
  {
   "cell_type": "code",
   "execution_count": null,
   "id": "7f48a73b-7401-40d3-ae98-9120c7888632",
   "metadata": {},
   "outputs": [],
   "source": [
    "ratings.head()"
   ]
  },
  {
   "cell_type": "code",
   "execution_count": null,
   "id": "0fd689e7-11b8-4e94-9e65-9cfb6f390a3e",
   "metadata": {},
   "outputs": [],
   "source": [
    "ratings.isnull().sum() #checking if any nulls present"
   ]
  },
  {
   "cell_type": "markdown",
   "id": "bffc64e1-babd-43ba-9c32-5df14d790e32",
   "metadata": {},
   "source": [
    "### Merge both dataframes on movieId"
   ]
  },
  {
   "cell_type": "code",
   "execution_count": null,
   "id": "d4165072-7b91-47f7-a4b2-051dbd6afb15",
   "metadata": {},
   "outputs": [],
   "source": [
    "final_df = pd.merge(movies,ratings,on='movieId')\n",
    "final_df.head()"
   ]
  },
  {
   "cell_type": "code",
   "execution_count": null,
   "id": "ccc29b10-1864-4e0a-9c0c-ae50498c4d12",
   "metadata": {},
   "outputs": [],
   "source": [
    "final_df.shape"
   ]
  },
  {
   "cell_type": "code",
   "execution_count": null,
   "id": "3fed5356-706e-4e04-8446-892720d8d2cd",
   "metadata": {},
   "outputs": [],
   "source": [
    "# drop timestamp as not required for analysis\n",
    "data= final_df.drop(['timestamp'], axis=1)\n",
    "data.head()"
   ]
  },
  {
   "cell_type": "code",
   "execution_count": null,
   "id": "d73cd5c9-46d0-4635-9f14-d801fd57fc81",
   "metadata": {},
   "outputs": [],
   "source": [
    "data.shape"
   ]
  },
  {
   "cell_type": "code",
   "execution_count": null,
   "id": "b3484cf3-7eae-430a-89f9-0f0a73489317",
   "metadata": {},
   "outputs": [],
   "source": [
    "data.describe(include='all') # summary statistics of data"
   ]
  },
  {
   "cell_type": "code",
   "execution_count": null,
   "id": "145afb7a-6424-4fec-8c7a-5eba9e521417",
   "metadata": {},
   "outputs": [],
   "source": [
    "data.info()"
   ]
  },
  {
   "cell_type": "code",
   "execution_count": null,
   "id": "659d8531-d053-4dba-bc2d-331fbbaee044",
   "metadata": {},
   "outputs": [],
   "source": [
    "data.userId.nunique"
   ]
  },
  {
   "cell_type": "markdown",
   "id": "a7d02e9d-b134-4a10-bce7-5aaf94847436",
   "metadata": {},
   "source": [
    "### Visual Representation of data"
   ]
  },
  {
   "cell_type": "code",
   "execution_count": null,
   "id": "0e350baa-7f21-4bd6-9ba7-005aaff54919",
   "metadata": {},
   "outputs": [],
   "source": [
    "# Ratings as per movie 'Toy Story'\n",
    "plt.figure(figsize=(8,6))\n",
    "movie_grp=data.groupby('title')\n",
    "toy_story = movie_grp.get_group('Toy Story (1995)')\n",
    "toy_story['rating'].hist()\n",
    "plt.title('User rating of the movie \"Toy Story\"')\n",
    "plt.xlabel('rating')\n",
    "plt.ylabel('number of users')\n",
    "plt.show()"
   ]
  },
  {
   "cell_type": "code",
   "execution_count": null,
   "id": "be0fbbaa-a3b3-49b5-a25f-08aefef2271f",
   "metadata": {},
   "outputs": [],
   "source": [
    "# Ratings as per Genre 'Drama'\n",
    "plt.figure(figsize=(8,6))\n",
    "movie_grp=data.groupby('genres')\n",
    "genre_grp = movie_grp.get_group('Drama')\n",
    "genre_grp['rating'].hist()\n",
    "plt.title('User rating as per genre \"Drama\"')\n",
    "plt.xlabel('rating')\n",
    "plt.ylabel('number of users')\n",
    "plt.show()"
   ]
  },
  {
   "cell_type": "code",
   "execution_count": null,
   "id": "7e8a4161-781b-4a50-9494-75d8f6d8aa8e",
   "metadata": {},
   "outputs": [],
   "source": [
    "# Ratings as per Genre 'Comedy'\n",
    "plt.figure(figsize=(8,6))\n",
    "movie_grp=data.groupby('genres')\n",
    "genre_grp = movie_grp.get_group('Comedy')\n",
    "genre_grp['rating'].hist()\n",
    "plt.title('User rating as per genre \"Comedy\"')\n",
    "plt.xlabel('rating')\n",
    "plt.ylabel('number of users')\n",
    "plt.show()"
   ]
  },
  {
   "cell_type": "code",
   "execution_count": null,
   "id": "d9e87fe4-08e5-486f-9f62-2604d9010a6e",
   "metadata": {},
   "outputs": [],
   "source": [
    "rating_avg=data.groupby('title')['rating'].mean()\n",
    "rating_avg.head()"
   ]
  },
  {
   "cell_type": "code",
   "execution_count": null,
   "id": "2674b757-cd2f-4891-91f4-b5609f59c802",
   "metadata": {},
   "outputs": [],
   "source": [
    "#sorting ratings in descending order\n",
    "rating_avg = rating_avg.sort_values(ascending=False)\n",
    "rating_avg.head()"
   ]
  },
  {
   "cell_type": "markdown",
   "id": "0c446421-220d-4f08-9a09-8eefa50a6dee",
   "metadata": {},
   "source": [
    "### Rating count/number of ratings for the movies"
   ]
  },
  {
   "cell_type": "code",
   "execution_count": null,
   "id": "19825f76-7103-4c45-bc0e-11897628684c",
   "metadata": {},
   "outputs": [],
   "source": [
    "rating_count=data.groupby('title')['rating']\n",
    "rating_count=rating_count.count().sort_values(ascending=False)\n",
    "rating_count[:25]"
   ]
  },
  {
   "cell_type": "code",
   "execution_count": null,
   "id": "f2245a9f-4baf-4b68-a2bb-c3d601d4b637",
   "metadata": {},
   "outputs": [],
   "source": [
    "rating_avg_count=pd.DataFrame(data=rating_avg)\n",
    "rating_avg_count['number_of_ratings']=pd.DataFrame(rating_count)\n",
    "rating_avg_count.head()"
   ]
  },
  {
   "cell_type": "code",
   "execution_count": null,
   "id": "c60d99cb-14da-4281-ba60-41685f79ddab",
   "metadata": {},
   "outputs": [],
   "source": [
    "rating_avg_count.describe()"
   ]
  },
  {
   "cell_type": "markdown",
   "id": "4a25a91d-543b-43e5-a4c0-9a76b6ef5e8a",
   "metadata": {},
   "source": [
    "### Top 25 movies \n",
    "### ratings excluding movies with less than 10 ratings"
   ]
  },
  {
   "cell_type": "code",
   "execution_count": null,
   "id": "7e73ab13-14e6-474e-9310-2fb3d4c4e95d",
   "metadata": {},
   "outputs": [],
   "source": [
    "filter_data=rating_avg_count[rating_avg_count['number_of_ratings'] > 10]\n",
    "filter_data[:25]"
   ]
  },
  {
   "cell_type": "markdown",
   "id": "daaf889f-5576-4349-99dd-df64cb089f44",
   "metadata": {},
   "source": [
    "### Ratings for all movies reviewed by userId 475"
   ]
  },
  {
   "cell_type": "code",
   "execution_count": null,
   "id": "975f6b4f-c9d7-4ae8-822c-c1f4952a610d",
   "metadata": {},
   "outputs": [],
   "source": [
    "user_475=data[data['userId']==475]\n",
    "user_475"
   ]
  },
  {
   "cell_type": "markdown",
   "id": "3bc8a98d-1b02-4d02-aec9-e4eb4cd3a5c4",
   "metadata": {},
   "source": [
    "### Feature Engineering"
   ]
  },
  {
   "cell_type": "code",
   "execution_count": null,
   "id": "68477bf6-02c0-43ee-aa34-317c50d77c97",
   "metadata": {},
   "outputs": [],
   "source": [
    "data['genres'].value_counts().head()"
   ]
  },
  {
   "cell_type": "code",
   "execution_count": null,
   "id": "410d833f-e245-4300-ae20-21fd89538494",
   "metadata": {},
   "outputs": [],
   "source": [
    "\n",
    "\n",
    "data['genres'].unique()"
   ]
  },
  {
   "cell_type": "markdown",
   "id": "81462924-9485-427d-96d9-89ed515d8edb",
   "metadata": {},
   "source": [
    "### Encoding genres with one hot encoding"
   ]
  },
  {
   "cell_type": "code",
   "execution_count": null,
   "id": "cef1816b-ed71-46c2-97be-a9d8abea5f6e",
   "metadata": {},
   "outputs": [],
   "source": [
    "genre=data['genres'].str.get_dummies().add_prefix('Genre_')\n",
    "genre.head()"
   ]
  },
  {
   "cell_type": "code",
   "execution_count": null,
   "id": "e1044ec3-48e5-4395-80d4-58644abef10b",
   "metadata": {},
   "outputs": [],
   "source": [
    "final_data=pd.concat([data,genre],axis=1)\n",
    "final_data.head()"
   ]
  },
  {
   "cell_type": "code",
   "execution_count": null,
   "id": "c84b8100-9351-41f5-a7d6-ed9e5a3433fb",
   "metadata": {},
   "outputs": [],
   "source": [
    "# Drop the genres column from final_data\n",
    "final_data = final_data.drop('genres',axis=1)\n",
    "final_data.head()"
   ]
  },
  {
   "cell_type": "code",
   "execution_count": null,
   "id": "360a6ffa-5ffc-4790-9573-32d2e42ddff6",
   "metadata": {},
   "outputs": [],
   "source": [
    "final_data.columns"
   ]
  },
  {
   "cell_type": "code",
   "execution_count": null,
   "id": "539bcb95-d363-426b-b9f3-4079c0f05a80",
   "metadata": {},
   "outputs": [],
   "source": [
    "final_data.dtypes"
   ]
  },
  {
   "cell_type": "code",
   "execution_count": null,
   "id": "42b6b149-29cc-488c-bfa2-05a3a0df41e5",
   "metadata": {},
   "outputs": [],
   "source": [
    "final_data['rating']=final_data['rating'].astype(int)\n",
    "final_data['rating']"
   ]
  },
  {
   "cell_type": "code",
   "execution_count": null,
   "id": "d484526a-57a5-4408-a2a3-80e5d997353e",
   "metadata": {},
   "outputs": [],
   "source": [
    "final_data.dtypes"
   ]
  },
  {
   "cell_type": "code",
   "execution_count": null,
   "id": "47df734c-94ed-45e0-8906-6f274eeeb3ea",
   "metadata": {},
   "outputs": [],
   "source": [
    "moviemat = final_data.pivot_table(index='userId',columns='title',values='rating')\n",
    "moviemat.head()"
   ]
  },
  {
   "cell_type": "code",
   "execution_count": null,
   "id": "f91580c9-3361-4433-b726-049066ec14d6",
   "metadata": {},
   "outputs": [],
   "source": [
    "filter_data.sort_values('number_of_ratings',ascending=False).head(5)"
   ]
  },
  {
   "cell_type": "code",
   "execution_count": null,
   "id": "763279a4-fa19-43c1-aa94-0ffd1a1812a0",
   "metadata": {},
   "outputs": [],
   "source": [
    "#analysing correlation with similar movies\n",
    "PulpFiction_ratings=moviemat['Pulp Fiction (1994)']\n",
    "SilenceLambs_ratings=moviemat['Silence of the Lambs, The (1991)']"
   ]
  },
  {
   "cell_type": "code",
   "execution_count": null,
   "id": "ecade4a1-237f-4485-b147-d9f24243ab3a",
   "metadata": {},
   "outputs": [],
   "source": [
    "PulpFiction_ratings.head()"
   ]
  },
  {
   "cell_type": "code",
   "execution_count": null,
   "id": "a3ca6982-589d-4b32-a51a-0ff9a683ce24",
   "metadata": {},
   "outputs": [],
   "source": [
    "SilenceLambs_ratings.head()"
   ]
  },
  {
   "cell_type": "code",
   "execution_count": null,
   "id": "d7f9d3dc-7359-455c-b91c-972465a9c068",
   "metadata": {},
   "outputs": [],
   "source": [
    "# Analysing correlation with similar movies\n",
    "similar_to_Pulpfiction = moviemat.corrwith(PulpFiction_ratings)\n",
    "similar_to_Silencelambs = moviemat.corrwith(SilenceLambs_ratings)"
   ]
  },
  {
   "cell_type": "code",
   "execution_count": null,
   "id": "ddb40619-1bef-4448-b37a-72c996baabb2",
   "metadata": {},
   "outputs": [],
   "source": [
    "similar_to_Pulpfiction.head()"
   ]
  },
  {
   "cell_type": "code",
   "execution_count": null,
   "id": "8bb130a8-a504-4907-ba22-2b206a38aae5",
   "metadata": {},
   "outputs": [],
   "source": [
    "similar_to_Silencelambs.head()"
   ]
  },
  {
   "cell_type": "code",
   "execution_count": null,
   "id": "c2293d70-6028-42f7-ad9e-8aa7c248e767",
   "metadata": {},
   "outputs": [],
   "source": [
    "corr_Pulpfiction=pd.DataFrame(similar_to_Pulpfiction,columns=['Correlation'])\n",
    "corr_Pulpfiction.dropna(inplace=True)\n",
    "corr_Pulpfiction.head()"
   ]
  },
  {
   "cell_type": "code",
   "execution_count": null,
   "id": "3cf4bd19-716f-466b-b779-49b53491a988",
   "metadata": {},
   "outputs": [],
   "source": []
  },
  {
   "cell_type": "code",
   "execution_count": null,
   "id": "2bc3e2d0-3a4a-43b4-841e-29e43d718516",
   "metadata": {},
   "outputs": [],
   "source": [
    "\n",
    "### Separating X and Y variables\n",
    "X = final_data.drop(['rating','title','movieId','userId'], axis=1)\n",
    "X"
   ]
  },
  {
   "cell_type": "code",
   "execution_count": null,
   "id": "9377edf8-3b75-490e-8b1d-760361a1b2af",
   "metadata": {},
   "outputs": [],
   "source": [
    "y=final_data['rating']\n",
    "y"
   ]
  },
  {
   "cell_type": "code",
   "execution_count": null,
   "id": "2d0ec803-5842-419a-8dcd-3c80af712523",
   "metadata": {},
   "outputs": [],
   "source": [
    "X.shape,y.shape"
   ]
  },
  {
   "cell_type": "code",
   "execution_count": null,
   "id": "2250c3cc-d666-4ffb-916e-e3654caeaf7d",
   "metadata": {},
   "outputs": [],
   "source": [
    "\n",
    "X_train,X_test,y_train,y_test=train_test_split(X,y,test_size=0.2,random_state=0)\n",
    "X_train.shape,X_test.shape,y_train.shape,y_test.shape"
   ]
  },
  {
   "cell_type": "markdown",
   "id": "4c2cfea4-762e-4e04-8b24-3f1d053233a0",
   "metadata": {},
   "source": [
    "### Linear Regression"
   ]
  },
  {
   "cell_type": "code",
   "execution_count": null,
   "id": "03f41d19-7a33-47ba-ae57-adade2e79b7c",
   "metadata": {},
   "outputs": [],
   "source": [
    "linreg=LinearRegression()\n",
    "linreg.fit(X_train,y_train)"
   ]
  },
  {
   "cell_type": "code",
   "execution_count": null,
   "id": "4db4335d-9c8b-450f-aca9-945000fec63b",
   "metadata": {},
   "outputs": [],
   "source": [
    "y_pred=linreg.predict(X_test)\n",
    "y_pred"
   ]
  },
  {
   "cell_type": "code",
   "execution_count": null,
   "id": "4a263ba8-7957-4457-8451-799e6df252f1",
   "metadata": {},
   "outputs": [],
   "source": [
    "#Evaluation Metrics\n",
    "r2_score(y_test,y_pred)"
   ]
  },
  {
   "cell_type": "code",
   "execution_count": null,
   "id": "3b8d3f51-b058-4f04-b663-d73d73f7f1a3",
   "metadata": {},
   "outputs": [],
   "source": [
    "pred_df = pd.DataFrame({'Test':y_test,'Prediction':y_pred})\n",
    "pred_df.head()"
   ]
  }
 ],
 "metadata": {
  "kernelspec": {
   "display_name": "Python 3 (ipykernel)",
   "language": "python",
   "name": "python3"
  },
  "language_info": {
   "codemirror_mode": {
    "name": "ipython",
    "version": 3
   },
   "file_extension": ".py",
   "mimetype": "text/x-python",
   "name": "python",
   "nbconvert_exporter": "python",
   "pygments_lexer": "ipython3",
   "version": "3.12.4"
  }
 },
 "nbformat": 4,
 "nbformat_minor": 5
}
